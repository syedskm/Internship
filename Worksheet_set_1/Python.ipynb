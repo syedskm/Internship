{
 "cells": [
  {
   "cell_type": "markdown",
   "id": "b65cc166",
   "metadata": {},
   "source": [
    "11. Write a python program to find the factorial of a number."
   ]
  },
  {
   "cell_type": "code",
   "execution_count": 5,
   "id": "8dc0be5a",
   "metadata": {},
   "outputs": [
    {
     "name": "stdout",
     "output_type": "stream",
     "text": [
      "Enter a number:0\n",
      "the factorial is 1\n"
     ]
    }
   ],
   "source": [
    "def fact(num):\n",
    "    if num<0:\n",
    "        print('Enter a +ve number!')\n",
    "        \n",
    "    elif num == 0 or num == 1:\n",
    "        print('the factorial is', 1)\n",
    "    else:\n",
    "        factorial = 1\n",
    "        for i in range(2, num + 1):\n",
    "            factorial *= i\n",
    "        print('the factorial is',factorial)\n",
    "\n",
    "num = int(input('Enter a number:'))\n",
    "fact(num)"
   ]
  },
  {
   "cell_type": "markdown",
   "id": "7196b171",
   "metadata": {},
   "source": [
    "12. Write a python program to find whether a number is prime or composite"
   ]
  },
  {
   "cell_type": "code",
   "execution_count": null,
   "id": "2270128b",
   "metadata": {},
   "outputs": [],
   "source": [
    "def pri_com(init):\n",
    "    if init <= 1:\n",
    "        print('Enter the number again')\n",
    "    else:\n",
    "        if init%2 != 0 or init == 2:\n",
    "            print('It is a prime')\n",
    "        else:\n",
    "            print(\"It is a composite\")\n",
    "        \n",
    "init = int(input(\"Enter a number:\"))\n",
    "pri_com(init)"
   ]
  },
  {
   "cell_type": "markdown",
   "id": "4a16d257",
   "metadata": {},
   "source": [
    "13. Write a python program to check whether a given string is palindrome or not."
   ]
  },
  {
   "cell_type": "code",
   "execution_count": null,
   "id": "de67c606",
   "metadata": {},
   "outputs": [],
   "source": [
    "def palin(str):\n",
    "    if str == str[::-1]:\n",
    "        print('Yes, it is a Pailndrome')\n",
    "    else:\n",
    "        print('No, it is not a palindome')\n",
    "        \n",
    "str = input('Enter a word:')\n",
    "palin(str)\n"
   ]
  },
  {
   "cell_type": "markdown",
   "id": "9ee78081",
   "metadata": {},
   "source": [
    "14. Write a Python program to get the third side of right-angled triangle from two given sides."
   ]
  },
  {
   "cell_type": "code",
   "execution_count": null,
   "id": "82e420bf",
   "metadata": {},
   "outputs": [],
   "source": [
    "def side3(side1,side2):\n",
    "    side3 = (side1**2+side2**2)**(1/2)\n",
    "    print('the third side is:',side3)\n",
    "side1 = float(input('Enter side 1:'))\n",
    "side2 = float(input('Enter side 2:'))\n",
    "side3(side1,side2)"
   ]
  },
  {
   "cell_type": "markdown",
   "id": "f57d7193",
   "metadata": {},
   "source": [
    "15. Write a python program to print the frequency of each of the characters present in a given string"
   ]
  },
  {
   "cell_type": "code",
   "execution_count": 6,
   "id": "1d7dadec",
   "metadata": {},
   "outputs": [
    {
     "name": "stdout",
     "output_type": "stream",
     "text": [
      "Enter your string:Hope you are doing well!\n"
     ]
    },
    {
     "data": {
      "text/plain": [
       "Counter({'H': 1,\n",
       "         'o': 3,\n",
       "         'p': 1,\n",
       "         'e': 3,\n",
       "         ' ': 4,\n",
       "         'y': 1,\n",
       "         'u': 1,\n",
       "         'a': 1,\n",
       "         'r': 1,\n",
       "         'd': 1,\n",
       "         'i': 1,\n",
       "         'n': 1,\n",
       "         'g': 1,\n",
       "         'w': 1,\n",
       "         'l': 2,\n",
       "         '!': 1})"
      ]
     },
     "execution_count": 6,
     "metadata": {},
     "output_type": "execute_result"
    }
   ],
   "source": [
    "from collections import Counter\n",
    "\n",
    "def count(word):\n",
    "    return Counter(word)\n",
    "\n",
    "word = input('Enter your string:')\n",
    "count(word)"
   ]
  }
 ],
 "metadata": {
  "kernelspec": {
   "display_name": "Python 3 (ipykernel)",
   "language": "python",
   "name": "python3"
  },
  "language_info": {
   "codemirror_mode": {
    "name": "ipython",
    "version": 3
   },
   "file_extension": ".py",
   "mimetype": "text/x-python",
   "name": "python",
   "nbconvert_exporter": "python",
   "pygments_lexer": "ipython3",
   "version": "3.9.13"
  }
 },
 "nbformat": 4,
 "nbformat_minor": 5
}
