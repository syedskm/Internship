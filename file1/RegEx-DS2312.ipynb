{
 "cells": [
  {
   "cell_type": "code",
   "execution_count": 2,
   "id": "bffb5a2b",
   "metadata": {},
   "outputs": [],
   "source": [
    "import re\n",
    "import pandas as pd"
   ]
  },
  {
   "cell_type": "markdown",
   "id": "3488d257",
   "metadata": {},
   "source": [
    "1. Write a Python program to replace all occurrences of a space, comma, or dot with a colon."
   ]
  },
  {
   "cell_type": "code",
   "execution_count": 2,
   "id": "1ab4cfb0",
   "metadata": {},
   "outputs": [
    {
     "name": "stdout",
     "output_type": "stream",
     "text": [
      "Python:Exercises::PHP:exercises:\n"
     ]
    }
   ],
   "source": [
    "text = 'Python Exercises, PHP exercises.'\n",
    "pattern = r'\\W'\n",
    "list_of_sp_char = re.findall(pattern,text)\n",
    "\n",
    "for i in list_of_sp_char:\n",
    "    text = text.replace(i,':')\n",
    "\n",
    "print(text)"
   ]
  },
  {
   "cell_type": "markdown",
   "id": "c96ea221",
   "metadata": {},
   "source": [
    "2. Create a dataframe using the dictionary below and remove everything (commas (,), !, XXXX, ;, etc.) from the columns except words."
   ]
  },
  {
   "cell_type": "code",
   "execution_count": 9,
   "id": "062bf9ef",
   "metadata": {},
   "outputs": [
    {
     "name": "stderr",
     "output_type": "stream",
     "text": [
      "C:\\Users\\B.S.Khajamoinuddin\\AppData\\Local\\Temp\\ipykernel_292\\1003130318.py:4: FutureWarning: The default value of regex will change from True to False in a future version.\n",
      "  df['SUMMARY'] = df['SUMMARY'].str.replace('[^a-zA-Z\\s]', '')\n"
     ]
    },
    {
     "data": {
      "text/html": [
       "<div>\n",
       "<style scoped>\n",
       "    .dataframe tbody tr th:only-of-type {\n",
       "        vertical-align: middle;\n",
       "    }\n",
       "\n",
       "    .dataframe tbody tr th {\n",
       "        vertical-align: top;\n",
       "    }\n",
       "\n",
       "    .dataframe thead th {\n",
       "        text-align: right;\n",
       "    }\n",
       "</style>\n",
       "<table border=\"1\" class=\"dataframe\">\n",
       "  <thead>\n",
       "    <tr style=\"text-align: right;\">\n",
       "      <th></th>\n",
       "      <th>SUMMARY</th>\n",
       "    </tr>\n",
       "  </thead>\n",
       "  <tbody>\n",
       "    <tr>\n",
       "      <th>0</th>\n",
       "      <td>hello world</td>\n",
       "    </tr>\n",
       "    <tr>\n",
       "      <th>1</th>\n",
       "      <td>XXXXX test</td>\n",
       "    </tr>\n",
       "    <tr>\n",
       "      <th>2</th>\n",
       "      <td>four five six</td>\n",
       "    </tr>\n",
       "  </tbody>\n",
       "</table>\n",
       "</div>"
      ],
      "text/plain": [
       "         SUMMARY\n",
       "0    hello world\n",
       "1     XXXXX test\n",
       "2  four five six"
      ]
     },
     "execution_count": 9,
     "metadata": {},
     "output_type": "execute_result"
    }
   ],
   "source": [
    "dict = {'SUMMARY' : ['hello, world!', 'XXXXX test', '123four, five:; six...']}\n",
    "\n",
    "df = pd.DataFrame(dict)\n",
    "df['SUMMARY'] = df['SUMMARY'].str.replace('[^a-zA-Z\\s]', '')\n",
    "\n",
    "df"
   ]
  },
  {
   "cell_type": "markdown",
   "id": "df0a0ab9",
   "metadata": {},
   "source": [
    "3. Create a function in python to find all words that are at least 4 characters long in a string. The use of the re.compile() method is mandatory."
   ]
  },
  {
   "cell_type": "code",
   "execution_count": 5,
   "id": "1466ea80",
   "metadata": {},
   "outputs": [
    {
     "data": {
      "text/plain": [
       "['Data',\n",
       " 'science',\n",
       " 'study',\n",
       " 'data',\n",
       " 'extract',\n",
       " 'meaningful',\n",
       " 'insights',\n",
       " 'business']"
      ]
     },
     "execution_count": 5,
     "metadata": {},
     "output_type": "execute_result"
    }
   ],
   "source": [
    "pat1 = r'\\b\\w{4,}\\b'\n",
    "pat_com = re.compile(pat1)\n",
    "\n",
    "def finda(char):\n",
    "    finding_all4_above = pat_com.findall(char)\n",
    "    return finding_all4_above\n",
    "\n",
    "string = 'Data science is the study of data to extract meaningful insights for business.'\n",
    "all_4_words = finda(string)\n",
    "all_4_words"
   ]
  },
  {
   "cell_type": "markdown",
   "id": "8f77dae5",
   "metadata": {},
   "source": [
    "4. Create a function in python to find all three, four, and five character words in a string. The use of the re.compile() method is mandatory."
   ]
  },
  {
   "cell_type": "code",
   "execution_count": null,
   "id": "759b992f",
   "metadata": {},
   "outputs": [],
   "source": [
    "pat2 = r'\\b\\w{3,5}\\b'\n",
    "pat_com1 = re.compile(pat2)\n",
    "\n",
    "def finda1(char):\n",
    "    finding_all3_5 = pat_com1.findall(char)\n",
    "    return finding_all3_5\n",
    "\n",
    "string = 'Data science is the study of data to extract meaningful insights for business.'\n",
    "all_3_5_words = finda1(string)\n",
    "all_3_5_words"
   ]
  },
  {
   "cell_type": "markdown",
   "id": "17316710",
   "metadata": {},
   "source": [
    "5. Create a function in Python to remove the parenthesis in a list of strings. The use of the re.compile() method is mandatory."
   ]
  },
  {
   "cell_type": "code",
   "execution_count": null,
   "id": "3f1dfaee",
   "metadata": {},
   "outputs": [],
   "source": [
    "pat3 = r'[()]+'\n",
    "pat_com2 = re.compile(pat3)\n",
    "\n",
    "def remove_braces(list_s):\n",
    "    s_no_braces = [pat_com2.sub('', i) for i in list_s]\n",
    "\n",
    "    return s_no_braces\n",
    "\n",
    "list_s = [\"example (.com)\", \"hr@fliprobo (.com)\", \"github (.com)\", \"Hello (Data Science World)\", \"Data (Scientist)\"]\n",
    "result = remove_braces(list_s)\n",
    "print(result)"
   ]
  },
  {
   "cell_type": "markdown",
   "id": "eaa39ef6",
   "metadata": {},
   "source": [
    "6. Write a python program to remove the parenthesis area from the text stored in the text file using Regular Expression."
   ]
  },
  {
   "cell_type": "code",
   "execution_count": null,
   "id": "cddf2cec",
   "metadata": {},
   "outputs": [],
   "source": [
    "pat4 = r'\\(([^())]+)\\)'\n",
    "pat_com3 = re.compile(pat4)\n",
    "\n",
    "def remove_braces_l(list_s):\n",
    "    s_no_braces_l = [pat_com3.sub('', i) for i in list_s]\n",
    "    return s_no_braces_l\n",
    "\n",
    "list_sl = [\"example(.com)\", \"hr@fliprobo(.com)\", \"github(.com)\", \"Hello(Data Science World)\", \"Data(Scientist)\"]\n",
    "result = remove_braces_l(list_sl)\n",
    "print(result)"
   ]
  },
  {
   "cell_type": "markdown",
   "id": "d8779bc5",
   "metadata": {},
   "source": [
    "7. Write a regular expression in Python to split a string into uppercase letters."
   ]
  },
  {
   "cell_type": "code",
   "execution_count": 6,
   "id": "b82a26d1",
   "metadata": {},
   "outputs": [
    {
     "name": "stdout",
     "output_type": "stream",
     "text": [
      "['Importance', 'Of', 'Regular', 'Expressions', 'In', 'Python']\n"
     ]
    }
   ],
   "source": [
    "string = \"ImportanceOfRegularExpressionsInPython\"\n",
    "pat5 = r'(?=[A-Z])'\n",
    "result = re.split(pat5, string)\n",
    "result.pop(0)\n",
    "print(result)"
   ]
  },
  {
   "cell_type": "markdown",
   "id": "0db18086",
   "metadata": {},
   "source": [
    "8. Create a function in python to insert spaces between words starting with numbers."
   ]
  },
  {
   "cell_type": "code",
   "execution_count": 7,
   "id": "4188732e",
   "metadata": {},
   "outputs": [
    {
     "name": "stdout",
     "output_type": "stream",
     "text": [
      "RegularExpression 1IsAn 2ImportantTopic 3InPython\n"
     ]
    }
   ],
   "source": [
    "string_sam = \"RegularExpression1IsAn2ImportantTopic3InPython\"\n",
    "pat6 = r'(?=[0-9])'\n",
    "result_ = re.sub(pat6, ' ',string_sam)\n",
    "print(result_)"
   ]
  },
  {
   "cell_type": "markdown",
   "id": "3bfc8e45",
   "metadata": {},
   "source": [
    "9. Create a function in python to insert spaces between words starting with capital letters or with numbers."
   ]
  },
  {
   "cell_type": "code",
   "execution_count": null,
   "id": "47322ef6",
   "metadata": {},
   "outputs": [],
   "source": [
    "string_samp = \"RegularExpression1IsAn2ImportantTopic3InPython\"\n",
    "pat7 = r'(?=[A-Z0-9])'\n",
    "result__ = re.sub(pat7, ' ',string_samp)\n",
    "print(result__)"
   ]
  },
  {
   "cell_type": "markdown",
   "id": "089755c5",
   "metadata": {},
   "source": [
    "10. Use the github link below to read the data and create a dataframe. After creating the dataframe extract the first 6 letters of each country and store in the dataframe under a new column called first_five_letters."
   ]
  },
  {
   "cell_type": "code",
   "execution_count": 13,
   "id": "2e7726b2",
   "metadata": {},
   "outputs": [
    {
     "data": {
      "text/html": [
       "<div>\n",
       "<style scoped>\n",
       "    .dataframe tbody tr th:only-of-type {\n",
       "        vertical-align: middle;\n",
       "    }\n",
       "\n",
       "    .dataframe tbody tr th {\n",
       "        vertical-align: top;\n",
       "    }\n",
       "\n",
       "    .dataframe thead th {\n",
       "        text-align: right;\n",
       "    }\n",
       "</style>\n",
       "<table border=\"1\" class=\"dataframe\">\n",
       "  <thead>\n",
       "    <tr style=\"text-align: right;\">\n",
       "      <th></th>\n",
       "      <th>Country</th>\n",
       "      <th>Region</th>\n",
       "      <th>Happiness Rank</th>\n",
       "      <th>Happiness Score</th>\n",
       "      <th>Standard Error</th>\n",
       "      <th>Economy (GDP per Capita)</th>\n",
       "      <th>Family</th>\n",
       "      <th>Health (Life Expectancy)</th>\n",
       "      <th>Freedom</th>\n",
       "      <th>Trust (Government Corruption)</th>\n",
       "      <th>Generosity</th>\n",
       "      <th>Dystopia Residual</th>\n",
       "    </tr>\n",
       "  </thead>\n",
       "  <tbody>\n",
       "    <tr>\n",
       "      <th>0</th>\n",
       "      <td>Switzerland</td>\n",
       "      <td>Western Europe</td>\n",
       "      <td>1</td>\n",
       "      <td>7.587</td>\n",
       "      <td>0.03411</td>\n",
       "      <td>1.39651</td>\n",
       "      <td>1.34951</td>\n",
       "      <td>0.94143</td>\n",
       "      <td>0.66557</td>\n",
       "      <td>0.41978</td>\n",
       "      <td>0.29678</td>\n",
       "      <td>2.51738</td>\n",
       "    </tr>\n",
       "    <tr>\n",
       "      <th>1</th>\n",
       "      <td>Iceland</td>\n",
       "      <td>Western Europe</td>\n",
       "      <td>2</td>\n",
       "      <td>7.561</td>\n",
       "      <td>0.04884</td>\n",
       "      <td>1.30232</td>\n",
       "      <td>1.40223</td>\n",
       "      <td>0.94784</td>\n",
       "      <td>0.62877</td>\n",
       "      <td>0.14145</td>\n",
       "      <td>0.43630</td>\n",
       "      <td>2.70201</td>\n",
       "    </tr>\n",
       "    <tr>\n",
       "      <th>2</th>\n",
       "      <td>Denmark</td>\n",
       "      <td>Western Europe</td>\n",
       "      <td>3</td>\n",
       "      <td>7.527</td>\n",
       "      <td>0.03328</td>\n",
       "      <td>1.32548</td>\n",
       "      <td>1.36058</td>\n",
       "      <td>0.87464</td>\n",
       "      <td>0.64938</td>\n",
       "      <td>0.48357</td>\n",
       "      <td>0.34139</td>\n",
       "      <td>2.49204</td>\n",
       "    </tr>\n",
       "    <tr>\n",
       "      <th>3</th>\n",
       "      <td>Norway</td>\n",
       "      <td>Western Europe</td>\n",
       "      <td>4</td>\n",
       "      <td>7.522</td>\n",
       "      <td>0.03880</td>\n",
       "      <td>1.45900</td>\n",
       "      <td>1.33095</td>\n",
       "      <td>0.88521</td>\n",
       "      <td>0.66973</td>\n",
       "      <td>0.36503</td>\n",
       "      <td>0.34699</td>\n",
       "      <td>2.46531</td>\n",
       "    </tr>\n",
       "    <tr>\n",
       "      <th>4</th>\n",
       "      <td>Canada</td>\n",
       "      <td>North America</td>\n",
       "      <td>5</td>\n",
       "      <td>7.427</td>\n",
       "      <td>0.03553</td>\n",
       "      <td>1.32629</td>\n",
       "      <td>1.32261</td>\n",
       "      <td>0.90563</td>\n",
       "      <td>0.63297</td>\n",
       "      <td>0.32957</td>\n",
       "      <td>0.45811</td>\n",
       "      <td>2.45176</td>\n",
       "    </tr>\n",
       "  </tbody>\n",
       "</table>\n",
       "</div>"
      ],
      "text/plain": [
       "       Country          Region  Happiness Rank  Happiness Score  \\\n",
       "0  Switzerland  Western Europe               1            7.587   \n",
       "1      Iceland  Western Europe               2            7.561   \n",
       "2      Denmark  Western Europe               3            7.527   \n",
       "3       Norway  Western Europe               4            7.522   \n",
       "4       Canada   North America               5            7.427   \n",
       "\n",
       "   Standard Error  Economy (GDP per Capita)   Family  \\\n",
       "0         0.03411                   1.39651  1.34951   \n",
       "1         0.04884                   1.30232  1.40223   \n",
       "2         0.03328                   1.32548  1.36058   \n",
       "3         0.03880                   1.45900  1.33095   \n",
       "4         0.03553                   1.32629  1.32261   \n",
       "\n",
       "   Health (Life Expectancy)  Freedom  Trust (Government Corruption)  \\\n",
       "0                   0.94143  0.66557                        0.41978   \n",
       "1                   0.94784  0.62877                        0.14145   \n",
       "2                   0.87464  0.64938                        0.48357   \n",
       "3                   0.88521  0.66973                        0.36503   \n",
       "4                   0.90563  0.63297                        0.32957   \n",
       "\n",
       "   Generosity  Dystopia Residual  \n",
       "0     0.29678            2.51738  \n",
       "1     0.43630            2.70201  \n",
       "2     0.34139            2.49204  \n",
       "3     0.34699            2.46531  \n",
       "4     0.45811            2.45176  "
      ]
     },
     "execution_count": 13,
     "metadata": {},
     "output_type": "execute_result"
    }
   ],
   "source": [
    "df_ = pd.read_csv('https://raw.githubusercontent.com/dsrscientist/DSData/master/happiness_score_dataset.csv')\n",
    "\n",
    "df_.head()"
   ]
  },
  {
   "cell_type": "code",
   "execution_count": 19,
   "id": "7f861779",
   "metadata": {},
   "outputs": [
    {
     "data": {
      "text/html": [
       "<div>\n",
       "<style scoped>\n",
       "    .dataframe tbody tr th:only-of-type {\n",
       "        vertical-align: middle;\n",
       "    }\n",
       "\n",
       "    .dataframe tbody tr th {\n",
       "        vertical-align: top;\n",
       "    }\n",
       "\n",
       "    .dataframe thead th {\n",
       "        text-align: right;\n",
       "    }\n",
       "</style>\n",
       "<table border=\"1\" class=\"dataframe\">\n",
       "  <thead>\n",
       "    <tr style=\"text-align: right;\">\n",
       "      <th></th>\n",
       "      <th>Country</th>\n",
       "      <th>Region</th>\n",
       "      <th>Happiness Rank</th>\n",
       "      <th>Happiness Score</th>\n",
       "      <th>Standard Error</th>\n",
       "      <th>Economy (GDP per Capita)</th>\n",
       "      <th>Family</th>\n",
       "      <th>Health (Life Expectancy)</th>\n",
       "      <th>Freedom</th>\n",
       "      <th>Trust (Government Corruption)</th>\n",
       "      <th>Generosity</th>\n",
       "      <th>Dystopia Residual</th>\n",
       "      <th>Country_in_5</th>\n",
       "      <th>first_five_letters</th>\n",
       "    </tr>\n",
       "  </thead>\n",
       "  <tbody>\n",
       "    <tr>\n",
       "      <th>0</th>\n",
       "      <td>Switzerland</td>\n",
       "      <td>Western Europe</td>\n",
       "      <td>1</td>\n",
       "      <td>7.587</td>\n",
       "      <td>0.03411</td>\n",
       "      <td>1.39651</td>\n",
       "      <td>1.34951</td>\n",
       "      <td>0.94143</td>\n",
       "      <td>0.66557</td>\n",
       "      <td>0.41978</td>\n",
       "      <td>0.29678</td>\n",
       "      <td>2.51738</td>\n",
       "      <td>Switze</td>\n",
       "      <td>Switze</td>\n",
       "    </tr>\n",
       "    <tr>\n",
       "      <th>1</th>\n",
       "      <td>Iceland</td>\n",
       "      <td>Western Europe</td>\n",
       "      <td>2</td>\n",
       "      <td>7.561</td>\n",
       "      <td>0.04884</td>\n",
       "      <td>1.30232</td>\n",
       "      <td>1.40223</td>\n",
       "      <td>0.94784</td>\n",
       "      <td>0.62877</td>\n",
       "      <td>0.14145</td>\n",
       "      <td>0.43630</td>\n",
       "      <td>2.70201</td>\n",
       "      <td>Icelan</td>\n",
       "      <td>Icelan</td>\n",
       "    </tr>\n",
       "    <tr>\n",
       "      <th>2</th>\n",
       "      <td>Denmark</td>\n",
       "      <td>Western Europe</td>\n",
       "      <td>3</td>\n",
       "      <td>7.527</td>\n",
       "      <td>0.03328</td>\n",
       "      <td>1.32548</td>\n",
       "      <td>1.36058</td>\n",
       "      <td>0.87464</td>\n",
       "      <td>0.64938</td>\n",
       "      <td>0.48357</td>\n",
       "      <td>0.34139</td>\n",
       "      <td>2.49204</td>\n",
       "      <td>Denmar</td>\n",
       "      <td>Denmar</td>\n",
       "    </tr>\n",
       "    <tr>\n",
       "      <th>3</th>\n",
       "      <td>Norway</td>\n",
       "      <td>Western Europe</td>\n",
       "      <td>4</td>\n",
       "      <td>7.522</td>\n",
       "      <td>0.03880</td>\n",
       "      <td>1.45900</td>\n",
       "      <td>1.33095</td>\n",
       "      <td>0.88521</td>\n",
       "      <td>0.66973</td>\n",
       "      <td>0.36503</td>\n",
       "      <td>0.34699</td>\n",
       "      <td>2.46531</td>\n",
       "      <td>Norway</td>\n",
       "      <td>Norway</td>\n",
       "    </tr>\n",
       "    <tr>\n",
       "      <th>4</th>\n",
       "      <td>Canada</td>\n",
       "      <td>North America</td>\n",
       "      <td>5</td>\n",
       "      <td>7.427</td>\n",
       "      <td>0.03553</td>\n",
       "      <td>1.32629</td>\n",
       "      <td>1.32261</td>\n",
       "      <td>0.90563</td>\n",
       "      <td>0.63297</td>\n",
       "      <td>0.32957</td>\n",
       "      <td>0.45811</td>\n",
       "      <td>2.45176</td>\n",
       "      <td>Canada</td>\n",
       "      <td>Canada</td>\n",
       "    </tr>\n",
       "    <tr>\n",
       "      <th>...</th>\n",
       "      <td>...</td>\n",
       "      <td>...</td>\n",
       "      <td>...</td>\n",
       "      <td>...</td>\n",
       "      <td>...</td>\n",
       "      <td>...</td>\n",
       "      <td>...</td>\n",
       "      <td>...</td>\n",
       "      <td>...</td>\n",
       "      <td>...</td>\n",
       "      <td>...</td>\n",
       "      <td>...</td>\n",
       "      <td>...</td>\n",
       "      <td>...</td>\n",
       "    </tr>\n",
       "    <tr>\n",
       "      <th>153</th>\n",
       "      <td>Rwanda</td>\n",
       "      <td>Sub-Saharan Africa</td>\n",
       "      <td>154</td>\n",
       "      <td>3.465</td>\n",
       "      <td>0.03464</td>\n",
       "      <td>0.22208</td>\n",
       "      <td>0.77370</td>\n",
       "      <td>0.42864</td>\n",
       "      <td>0.59201</td>\n",
       "      <td>0.55191</td>\n",
       "      <td>0.22628</td>\n",
       "      <td>0.67042</td>\n",
       "      <td>Rwanda</td>\n",
       "      <td>Rwanda</td>\n",
       "    </tr>\n",
       "    <tr>\n",
       "      <th>154</th>\n",
       "      <td>Benin</td>\n",
       "      <td>Sub-Saharan Africa</td>\n",
       "      <td>155</td>\n",
       "      <td>3.340</td>\n",
       "      <td>0.03656</td>\n",
       "      <td>0.28665</td>\n",
       "      <td>0.35386</td>\n",
       "      <td>0.31910</td>\n",
       "      <td>0.48450</td>\n",
       "      <td>0.08010</td>\n",
       "      <td>0.18260</td>\n",
       "      <td>1.63328</td>\n",
       "      <td>Benin</td>\n",
       "      <td>Benin</td>\n",
       "    </tr>\n",
       "    <tr>\n",
       "      <th>155</th>\n",
       "      <td>Syria</td>\n",
       "      <td>Middle East and Northern Africa</td>\n",
       "      <td>156</td>\n",
       "      <td>3.006</td>\n",
       "      <td>0.05015</td>\n",
       "      <td>0.66320</td>\n",
       "      <td>0.47489</td>\n",
       "      <td>0.72193</td>\n",
       "      <td>0.15684</td>\n",
       "      <td>0.18906</td>\n",
       "      <td>0.47179</td>\n",
       "      <td>0.32858</td>\n",
       "      <td>Syria</td>\n",
       "      <td>Syria</td>\n",
       "    </tr>\n",
       "    <tr>\n",
       "      <th>156</th>\n",
       "      <td>Burundi</td>\n",
       "      <td>Sub-Saharan Africa</td>\n",
       "      <td>157</td>\n",
       "      <td>2.905</td>\n",
       "      <td>0.08658</td>\n",
       "      <td>0.01530</td>\n",
       "      <td>0.41587</td>\n",
       "      <td>0.22396</td>\n",
       "      <td>0.11850</td>\n",
       "      <td>0.10062</td>\n",
       "      <td>0.19727</td>\n",
       "      <td>1.83302</td>\n",
       "      <td>Burund</td>\n",
       "      <td>Burund</td>\n",
       "    </tr>\n",
       "    <tr>\n",
       "      <th>157</th>\n",
       "      <td>Togo</td>\n",
       "      <td>Sub-Saharan Africa</td>\n",
       "      <td>158</td>\n",
       "      <td>2.839</td>\n",
       "      <td>0.06727</td>\n",
       "      <td>0.20868</td>\n",
       "      <td>0.13995</td>\n",
       "      <td>0.28443</td>\n",
       "      <td>0.36453</td>\n",
       "      <td>0.10731</td>\n",
       "      <td>0.16681</td>\n",
       "      <td>1.56726</td>\n",
       "      <td>Togo</td>\n",
       "      <td>Togo</td>\n",
       "    </tr>\n",
       "  </tbody>\n",
       "</table>\n",
       "<p>158 rows × 14 columns</p>\n",
       "</div>"
      ],
      "text/plain": [
       "         Country                           Region  Happiness Rank  \\\n",
       "0    Switzerland                   Western Europe               1   \n",
       "1        Iceland                   Western Europe               2   \n",
       "2        Denmark                   Western Europe               3   \n",
       "3         Norway                   Western Europe               4   \n",
       "4         Canada                    North America               5   \n",
       "..           ...                              ...             ...   \n",
       "153       Rwanda               Sub-Saharan Africa             154   \n",
       "154        Benin               Sub-Saharan Africa             155   \n",
       "155        Syria  Middle East and Northern Africa             156   \n",
       "156      Burundi               Sub-Saharan Africa             157   \n",
       "157         Togo               Sub-Saharan Africa             158   \n",
       "\n",
       "     Happiness Score  Standard Error  Economy (GDP per Capita)   Family  \\\n",
       "0              7.587         0.03411                   1.39651  1.34951   \n",
       "1              7.561         0.04884                   1.30232  1.40223   \n",
       "2              7.527         0.03328                   1.32548  1.36058   \n",
       "3              7.522         0.03880                   1.45900  1.33095   \n",
       "4              7.427         0.03553                   1.32629  1.32261   \n",
       "..               ...             ...                       ...      ...   \n",
       "153            3.465         0.03464                   0.22208  0.77370   \n",
       "154            3.340         0.03656                   0.28665  0.35386   \n",
       "155            3.006         0.05015                   0.66320  0.47489   \n",
       "156            2.905         0.08658                   0.01530  0.41587   \n",
       "157            2.839         0.06727                   0.20868  0.13995   \n",
       "\n",
       "     Health (Life Expectancy)  Freedom  Trust (Government Corruption)  \\\n",
       "0                     0.94143  0.66557                        0.41978   \n",
       "1                     0.94784  0.62877                        0.14145   \n",
       "2                     0.87464  0.64938                        0.48357   \n",
       "3                     0.88521  0.66973                        0.36503   \n",
       "4                     0.90563  0.63297                        0.32957   \n",
       "..                        ...      ...                            ...   \n",
       "153                   0.42864  0.59201                        0.55191   \n",
       "154                   0.31910  0.48450                        0.08010   \n",
       "155                   0.72193  0.15684                        0.18906   \n",
       "156                   0.22396  0.11850                        0.10062   \n",
       "157                   0.28443  0.36453                        0.10731   \n",
       "\n",
       "     Generosity  Dystopia Residual Country_in_5 first_five_letters  \n",
       "0       0.29678            2.51738       Switze             Switze  \n",
       "1       0.43630            2.70201       Icelan             Icelan  \n",
       "2       0.34139            2.49204       Denmar             Denmar  \n",
       "3       0.34699            2.46531       Norway             Norway  \n",
       "4       0.45811            2.45176       Canada             Canada  \n",
       "..          ...                ...          ...                ...  \n",
       "153     0.22628            0.67042       Rwanda             Rwanda  \n",
       "154     0.18260            1.63328        Benin              Benin  \n",
       "155     0.47179            0.32858        Syria              Syria  \n",
       "156     0.19727            1.83302       Burund             Burund  \n",
       "157     0.16681            1.56726         Togo               Togo  \n",
       "\n",
       "[158 rows x 14 columns]"
      ]
     },
     "execution_count": 19,
     "metadata": {},
     "output_type": "execute_result"
    }
   ],
   "source": [
    "df_['first_five_letters'] = df_['Country'].apply(lambda x: x[0:6])\n",
    "\n",
    "df_['first_five_letters']"
   ]
  },
  {
   "cell_type": "markdown",
   "id": "f7e1be04",
   "metadata": {},
   "source": [
    "11. Write a Python program to match a string that contains only upper and lowercase letters, numbers, and underscores."
   ]
  },
  {
   "cell_type": "code",
   "execution_count": null,
   "id": "3b57fea6",
   "metadata": {},
   "outputs": [],
   "source": [
    "str = 'alpHabEt abc_def_hij 123oop!'\n",
    "re.findall(r'\\w', str)"
   ]
  },
  {
   "cell_type": "markdown",
   "id": "1992d131",
   "metadata": {},
   "source": [
    "12. Write a Python program where a string will start with a specific number. "
   ]
  },
  {
   "cell_type": "code",
   "execution_count": null,
   "id": "e51a3f27",
   "metadata": {},
   "outputs": [],
   "source": [
    "def func(snum, text):\n",
    "    pat = re.compile(fr'\\s{snum}[^\\s]*')\n",
    "    result = pat.findall(text)\n",
    "    return result\n",
    "\n",
    "func(2,'alpHabEt 2abc def_hij 123oop')"
   ]
  },
  {
   "cell_type": "markdown",
   "id": "0492e66d",
   "metadata": {},
   "source": [
    "13. Write a Python program to remove leading zeros from an IP address"
   ]
  },
  {
   "cell_type": "code",
   "execution_count": null,
   "id": "ed01e200",
   "metadata": {},
   "outputs": [],
   "source": [
    "ip = \"27.05.090.0106\"\n",
    "new_ip = re.sub('\\.[0]*', '.', ip)\n",
    "print(new_ip)"
   ]
  },
  {
   "cell_type": "markdown",
   "id": "69413fab",
   "metadata": {},
   "source": [
    "14. Write a regular expression in python to match a date string in the form of Month name followed by day number and year stored in a text file."
   ]
  },
  {
   "cell_type": "code",
   "execution_count": null,
   "id": "494eee48",
   "metadata": {},
   "outputs": [],
   "source": [
    "pat_d = r'\\b([A-Za-z]+ \\d{1,2}(?:th|st|nd|rd)? \\d{4})\\b'"
   ]
  },
  {
   "cell_type": "code",
   "execution_count": null,
   "id": "b0bcd181",
   "metadata": {},
   "outputs": [],
   "source": [
    "text = open('new.txt', 'r')\n",
    "content = text.read()\n",
    "text.close()\n",
    "content\n",
    "\n",
    "re.findall(pat_d,content)"
   ]
  },
  {
   "cell_type": "markdown",
   "id": "e13f6de7",
   "metadata": {},
   "source": [
    "15. Write a Python program to search some literals strings in a string. "
   ]
  },
  {
   "cell_type": "code",
   "execution_count": null,
   "id": "b7d1f8e0",
   "metadata": {},
   "outputs": [],
   "source": [
    "x = 'The quick brown fox jumps over the lazy dog.'\n",
    "\n",
    "pat = ['fox','dog', 'horse']\n",
    "\n",
    "for i in pat:\n",
    "    print(re.findall(i,x))"
   ]
  },
  {
   "cell_type": "markdown",
   "id": "003ceded",
   "metadata": {},
   "source": [
    "16. Write a Python program to search a literals string in a string and also find the location within the original string where the pattern occurs"
   ]
  },
  {
   "cell_type": "code",
   "execution_count": null,
   "id": "8fbcf6cf",
   "metadata": {},
   "outputs": [],
   "source": [
    "y = 'The quick brown fox jumps over the lazy dog.'\n",
    "\n",
    "patt = 'fox'\n",
    "\n",
    "\n",
    "print(re.search(patt,y))"
   ]
  },
  {
   "cell_type": "markdown",
   "id": "8875691b",
   "metadata": {},
   "source": [
    "17. Write a Python program to find the substrings within a string.\n",
    "\n",
    "Sample text : 'Python exercises, PHP exercises, C# exercises' \n",
    "\n",
    "Pattern : 'exercises'.\n"
   ]
  },
  {
   "cell_type": "code",
   "execution_count": null,
   "id": "672d06c8",
   "metadata": {},
   "outputs": [],
   "source": [
    "text = 'Python exercises, PHP exercises, C# exercises'\n",
    "pattern = 'exercises'\n",
    "print(re.findall(pattern,text))"
   ]
  },
  {
   "cell_type": "markdown",
   "id": "fe788f7b",
   "metadata": {},
   "source": [
    "18. Write a Python program to find the occurrence and position of the substrings within a string."
   ]
  },
  {
   "cell_type": "code",
   "execution_count": null,
   "id": "f0844677",
   "metadata": {},
   "outputs": [],
   "source": [
    "text = 'Python exercises, PHP exercises, C# exercises'\n",
    "pattern = 'exercises'\n",
    "for p in re.finditer(pattern, text):\n",
    "    x = p.start()\n",
    "    y = p.end()\n",
    "    print(pattern,x,':',y)"
   ]
  },
  {
   "cell_type": "markdown",
   "id": "cff4207f",
   "metadata": {},
   "source": [
    "19. Write a Python program to convert a date of yyyy-mm-dd format to dd-mm-yyyy format."
   ]
  },
  {
   "cell_type": "code",
   "execution_count": null,
   "id": "875e00ca",
   "metadata": {},
   "outputs": [],
   "source": [
    "date = 'I joined on 2023-29-12'\n",
    "pat_D = r'(\\d{4})-(\\d{2})-(\\d{2})'\n",
    "print(re.sub(pat_D, r'\\3-\\2-\\1',date))"
   ]
  },
  {
   "cell_type": "markdown",
   "id": "c19a6acf",
   "metadata": {},
   "source": [
    "20. Create a function in python to find all decimal numbers with a precision of 1 or 2 in a string. The use of the re.compile() method is mandatory."
   ]
  },
  {
   "cell_type": "code",
   "execution_count": null,
   "id": "02b5625a",
   "metadata": {},
   "outputs": [],
   "source": [
    "pate = r'\\d+\\.\\d{1,2}\\b'\n",
    "patt = re.compile(pate)\n",
    "int = '01.12 0132.123 2.31875 145.8 3.01 27.25 0.25'\n",
    "\n",
    "patt.findall(int)"
   ]
  },
  {
   "cell_type": "markdown",
   "id": "8bab88da",
   "metadata": {},
   "source": [
    "21. Write a Python program to separate and print the numbers and their position of a given string."
   ]
  },
  {
   "cell_type": "code",
   "execution_count": null,
   "id": "bfef7a83",
   "metadata": {},
   "outputs": [],
   "source": [
    "str1 = 'I live in 62nd street of Chennai-01 and my postal code is 500010, and it is near 300 ft. clock tower'\n",
    "pattt = r'\\d+'\n",
    "\n",
    "z = re.finditer(pattt,str1)\n",
    "for i in z:\n",
    "    print(i.group(), i.start())"
   ]
  },
  {
   "cell_type": "markdown",
   "id": "a764d5cf",
   "metadata": {},
   "source": [
    "22. Write a regular expression in python program to extract maximum/largest numeric value from a string."
   ]
  },
  {
   "cell_type": "code",
   "execution_count": 4,
   "id": "aceb2ab3",
   "metadata": {},
   "outputs": [
    {
     "data": {
      "text/plain": [
       "950"
      ]
     },
     "execution_count": 4,
     "metadata": {},
     "output_type": "execute_result"
    }
   ],
   "source": [
    "str2 = 'My marks in each semester are: 947, 896, 926, 524, 734, 950, 642'\n",
    "num_list = re.findall(r'\\d+',str2)\n",
    "num_list\n",
    "new_num = list(map(int, num_list))\n",
    "max(new_num)"
   ]
  },
  {
   "cell_type": "markdown",
   "id": "59b89782",
   "metadata": {},
   "source": [
    "23. Create a function in python to insert spaces between words starting with capital letters."
   ]
  },
  {
   "cell_type": "code",
   "execution_count": 8,
   "id": "28a2bb25",
   "metadata": {},
   "outputs": [
    {
     "data": {
      "text/plain": [
       "' Regular Expression Is An Important Topic In Python'"
      ]
     },
     "execution_count": 8,
     "metadata": {},
     "output_type": "execute_result"
    }
   ],
   "source": [
    "str3 = 'RegularExpressionIsAnImportantTopicInPython'\n",
    "\n",
    "def func(n):\n",
    "    pat = '(?=[A-Z])'\n",
    "    return re.sub(pat,' ',n)\n",
    "\n",
    "func(str3) "
   ]
  },
  {
   "cell_type": "markdown",
   "id": "363b82ca",
   "metadata": {},
   "source": [
    "24. Python regex to find sequences of one upper case letter followed by lower case letters"
   ]
  },
  {
   "cell_type": "code",
   "execution_count": 6,
   "id": "dd255ce4",
   "metadata": {},
   "outputs": [
    {
     "name": "stdout",
     "output_type": "stream",
     "text": [
      "['Python', 'Find', 'Sequences', 'One', 'Letter']\n"
     ]
    }
   ],
   "source": [
    "str3 = 'Python REGex to Find Sequences OF One uPPer case Letter followed BY lower case letters'\n",
    "pat3 = r'\\b[A-Z]{1}[a-z]+'\n",
    "res = re.findall(pat3, str3)\n",
    "print(res)"
   ]
  },
  {
   "cell_type": "markdown",
   "id": "b341fc38",
   "metadata": {},
   "source": [
    "25. Write a Python program to remove continuous duplicate words from Sentence using Regular Expression."
   ]
  },
  {
   "cell_type": "code",
   "execution_count": 11,
   "id": "09163be7",
   "metadata": {},
   "outputs": [
    {
     "name": "stdout",
     "output_type": "stream",
     "text": [
      "Hello hello world\n"
     ]
    }
   ],
   "source": [
    "pat_O = r'\\b(\\w+)(\\s+\\1)+'\n",
    "stre = 'Hello hello world world'\n",
    "reslt = re.sub(pat_O, r'\\1' , stre)\n",
    "print(reslt)"
   ]
  },
  {
   "cell_type": "markdown",
   "id": "7a06a9a2",
   "metadata": {},
   "source": [
    "26. Write a python program using RegEx to accept string ending with alphanumeric character."
   ]
  },
  {
   "cell_type": "code",
   "execution_count": 4,
   "id": "a9765704",
   "metadata": {},
   "outputs": [
    {
     "name": "stdout",
     "output_type": "stream",
     "text": [
      "Enter a string with alphanumeric:jol7\n",
      "<re.Match object; span=(0, 4), match='jol7'> Acctpted\n"
     ]
    }
   ],
   "source": [
    "stringg = input('Enter a string with alphanumeric:')\n",
    "pat_aplhanum = r'^.*[A-Za-z0-9]$'\n",
    "resulT= re.match(pat_aplhanum, stringg)\n",
    "\n",
    "if resulT:\n",
    "    print(resulT, 'Acctpted')\n",
    "else:\n",
    "    print(resulT, 'Rejected')"
   ]
  },
  {
   "cell_type": "markdown",
   "id": "cbd087cf",
   "metadata": {},
   "source": [
    "27. Write a python program using RegEx to extract the hashtags."
   ]
  },
  {
   "cell_type": "code",
   "execution_count": 6,
   "id": "66aba062",
   "metadata": {},
   "outputs": [
    {
     "name": "stdout",
     "output_type": "stream",
     "text": [
      "['#Doltiwal', '#xyzabc', '#Demonetization']\n"
     ]
    }
   ],
   "source": [
    "samp_tex = '\"\"\"RT @kapil_kausik: #Doltiwal I mean #xyzabc is \"hurt\" by #Demonetization as the same has rendered USELESS <ed><U+00A0><U+00BD><ed><U+00B1><U+0089> \"acquired funds\" No wo\"\"\"'\n",
    "pat_hash = r'#\\w+\\b'\n",
    "res_hash = re.findall(pat_hash, samp_tex)\n",
    "\n",
    "print(res_hash)"
   ]
  },
  {
   "cell_type": "markdown",
   "id": "70cd6443",
   "metadata": {},
   "source": [
    "28. Write a python program using RegEx to remove <U+..> like symbols\n",
    "Check the below sample text, there are strange symbols something of the sort <U+..> all over the place. You need to come up with a general Regex expression that will cover all such symbols.\n"
   ]
  },
  {
   "cell_type": "code",
   "execution_count": 3,
   "id": "34f8bc3f",
   "metadata": {},
   "outputs": [
    {
     "name": "stdout",
     "output_type": "stream",
     "text": [
      "@Jags123456 Bharat band on 28??<ed><ed>Those who  are protesting #demonetization  are all different party leaders\n"
     ]
    }
   ],
   "source": [
    "paT = r'<U[+]\\w+>'\n",
    "sTr = '@Jags123456 Bharat band on 28??<ed><U+00A0><U+00BD><ed><U+00B8><U+0082>Those who  are protesting #demonetization  are all different party leaders'\n",
    "\n",
    "resulT = re.sub(paT, '', sTr)\n",
    "print(resulT)"
   ]
  },
  {
   "cell_type": "markdown",
   "id": "7d1fbec3",
   "metadata": {},
   "source": [
    "29. Write a python program to extract dates from the text stored in the text file."
   ]
  },
  {
   "cell_type": "code",
   "execution_count": 6,
   "id": "d8175c0a",
   "metadata": {},
   "outputs": [],
   "source": [
    "pat_ext= r'\\d{2}-\\d{2}-\\d{4}'"
   ]
  },
  {
   "cell_type": "code",
   "execution_count": 7,
   "id": "04594c94",
   "metadata": {},
   "outputs": [
    {
     "data": {
      "text/plain": [
       "['12-09-1992', '15-12-1999']"
      ]
     },
     "execution_count": 7,
     "metadata": {},
     "output_type": "execute_result"
    }
   ],
   "source": [
    "text_file = open('new_text.txt', 'r')\n",
    "contents = text_file.read()\n",
    "text_file.close()\n",
    "contents\n",
    "\n",
    "re.findall(pat_ext,contents)"
   ]
  },
  {
   "cell_type": "markdown",
   "id": "1296555e",
   "metadata": {},
   "source": [
    "30. Create a function in python to remove all words from a string of length between 2 and 4."
   ]
  },
  {
   "cell_type": "code",
   "execution_count": 12,
   "id": "a7b5898e",
   "metadata": {},
   "outputs": [
    {
     "name": "stdout",
     "output_type": "stream",
     "text": [
      " following example creates ArrayList a capacity elements. 4 elements added ArrayList ArrayList trimmed accordingly.\n"
     ]
    }
   ],
   "source": [
    "pat_exc = r'\\W*\\b\\w{2,4}\\b'\n",
    "pat_com = re.compile(pat_exc)\n",
    "sam = 'The following example creates an ArrayList with a capacity of 50 elements. 4 elements are then added to the ArrayList and the ArrayList is trimmed accordingly.'\n",
    "result_exc = pat_com.sub('', sam)\n",
    "print(result_exc)"
   ]
  }
 ],
 "metadata": {
  "kernelspec": {
   "display_name": "Python 3 (ipykernel)",
   "language": "python",
   "name": "python3"
  },
  "language_info": {
   "codemirror_mode": {
    "name": "ipython",
    "version": 3
   },
   "file_extension": ".py",
   "mimetype": "text/x-python",
   "name": "python",
   "nbconvert_exporter": "python",
   "pygments_lexer": "ipython3",
   "version": "3.9.13"
  }
 },
 "nbformat": 4,
 "nbformat_minor": 5
}
